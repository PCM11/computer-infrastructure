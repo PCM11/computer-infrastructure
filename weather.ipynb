{
 "cells": [
  {
   "cell_type": "markdown",
   "metadata": {},
   "source": [
    "# Weather Notebook\n",
    "\n",
    "This notebook will provide code snippets and explanations for each task, starting from creating directory structures to downloading weather data and processing it."
   ]
  },
  {
   "cell_type": "markdown",
   "metadata": {},
   "source": [
    "### Import Required Libraries"
   ]
  },
  {
   "cell_type": "code",
   "execution_count": 122,
   "metadata": {},
   "outputs": [],
   "source": [
    "# Libraries\n",
    "import pandas as pd # for data manipulation and analysis\n",
    "import matplotlib.pyplot as plt  # for data visualisation and graphical plotting\n",
    "import seaborn as sns  # built on top of matplotlib with similar functionalities\n",
    "import numpy as np # for mathematical operations on arrays.\n",
    "import datetime"
   ]
  },
  {
   "cell_type": "markdown",
   "metadata": {},
   "source": [
    "### Collecting the Data"
   ]
  },
  {
   "cell_type": "markdown",
   "metadata": {},
   "source": [
    "**1. Create Directory Structure**\n",
    "\n",
    "The `mkdir` command in Linux is used to create directories. It stands for \"make directory\" and can create one or multiple directories at once.\n",
    "\n",
    "https://www.geeksforgeeks.org/mkdir-command-in-linux-with-examples/"
   ]
  },
  {
   "cell_type": "markdown",
   "metadata": {},
   "source": [
    "\n",
    "```bash\n",
    "mkdir -p computer_infrastructure/data/timestamps/weather \n",
    "```"
   ]
  },
  {
   "cell_type": "markdown",
   "metadata": {},
   "source": [
    "**2. Timestamps**\n",
    "\n",
    "The `date` command is a tool used to display the current date and time, as well as set the system date and time. \n",
    "\n",
    "https://www.tutorialspoint.com/date-command-in-linux\n"
   ]
  },
  {
   "cell_type": "markdown",
   "metadata": {},
   "source": [
    "\n",
    "```bash\n",
    "date + \"%Y/%m/%d_%H:%M:%S>>now.txt\n",
    "```\n",
    "\n",
    "where: %Y = Year, %m = Month and %d = Date\n",
    "       %H = Hour, %M = Minutes and %S = Seconds \n",
    "       \n",
    "The output format is:\n",
    "2024/12/07 14:30:00"
   ]
  },
  {
   "cell_type": "markdown",
   "metadata": {},
   "source": [
    "**3. Formatting Timestamps**\n",
    "\n",
    "This command generated timestamps and appended them onto formatted.txt file\n",
    "\n",
    "```bash\n",
    "date + \"%Y%m%d_%H%M%S>>formatted.txt\n",
    "```\n",
    "Output format: 20241209_130003 (File created at 1:00:03 PM on December 09, 2024).\n"
   ]
  },
  {
   "cell_type": "markdown",
   "metadata": {},
   "source": [
    "`touch`...."
   ]
  },
  {
   "cell_type": "markdown",
   "metadata": {},
   "source": [
    "**4. Creating Timestamped Files**\n",
    "\n",
    "The `touch` command in Linux is a tool used for creating empty files and updating the timestamps of existing files. \n",
    "\n",
    "https://www.serveracademy.com/blog/how-to-use-the-touch-command-in-linux/\n",
    "\n",
    "```bash\n",
    "touch `date +\"%Y%m%d_%H%M%S.txt\"`\n",
    "```\n",
    "Output format: 20241025_222322.txt (File created at 10:23:22 PM on October 25, 2024.)"
   ]
  },
  {
   "cell_type": "markdown",
   "metadata": {},
   "source": [
    "**5. Dowloading Today's weather**\n",
    "\n",
    "`Wget` is a command-line utility for downloading files from the web. \n",
    "\n",
    "https://linuxize.com/post/wget-command-examples/\n",
    "\n",
    "```bash\n",
    "wget -O weather.json\" https://prodapi.metweb.ie/observations/athenry/today\n",
    "```"
   ]
  },
  {
   "cell_type": "markdown",
   "metadata": {},
   "source": [
    "**6. Timestamp the Data in YYYYmmdd_HHMMSS.json Format**\n",
    "\n",
    "Modifying the downloaded weather file with a timestamped name.\n",
    "\n",
    "```bash\n",
    "wget -O data/weather/`date +\"%Y%m%d_%H%M%S.json\"` https://prodapi.metweb.ie/observations/athenry/today\n",
    "\n",
    "```\n",
    "Output format:20241201_221719.json (File created at 10:17:19 PM on December 01, 2024)"
   ]
  },
  {
   "cell_type": "markdown",
   "metadata": {},
   "source": [
    "**7. Bash script**:\n",
    "\n",
    "Text file containing a series of commands written for the bash shell, used to automate tasks, execute multiple commands, or create simple programs.\n",
    "\n",
    "https://linuxconfig.org/bash-scripting-tutorial"
   ]
  },
  {
   "cell_type": "markdown",
   "metadata": {},
   "source": [
    "```bash\n",
    "\n",
    "#!/bin/bash\n",
    "date\n",
    "echo \"Downloading weather data\"\n",
    "wget -O data/weather/`date +\"%Y%m%d_%H%M%S.json\"` https://prodapi.metweb.ie/observations/athenry/today\n",
    "echo \"Weather data downloaded\"\n",
    "\n",
    "```"
   ]
  },
  {
   "cell_type": "markdown",
   "metadata": {},
   "source": [
    "### Weather Analysis"
   ]
  },
  {
   "cell_type": "markdown",
   "metadata": {},
   "source": [
    "#### About the Dataset.\n",
    "\n",
    "This weather dataset contains a list of observations for every hour of the current day for a synoptic station in Athenry, Co Galway.\n",
    "Time values are Local times and the file is updated hourly. \n",
    "\n",
    "Values for each hour include: \n",
    "\n",
    "- Name\n",
    "- Dry bulb temperature in whole degrees\n",
    "- Weather description, Windspeed (kt)\n",
    "- Cardinal Wind Direction\n",
    "- Relative Humidity (%)\n",
    "- Rainfall (mm)\n",
    "- msl Pressure (mbar) \n",
    "- Day of the week\n",
    "- Date\n",
    "- Time of observation.\n",
    "\n",
    "https://data.gov.ie/dataset/todays-weather-athenry"
   ]
  },
  {
   "cell_type": "markdown",
   "metadata": {},
   "source": [
    "#### Load the Weather Data"
   ]
  },
  {
   "cell_type": "code",
   "execution_count": 123,
   "metadata": {},
   "outputs": [
    {
     "data": {
      "text/html": [
       "<div>\n",
       "<style scoped>\n",
       "    .dataframe tbody tr th:only-of-type {\n",
       "        vertical-align: middle;\n",
       "    }\n",
       "\n",
       "    .dataframe tbody tr th {\n",
       "        vertical-align: top;\n",
       "    }\n",
       "\n",
       "    .dataframe thead th {\n",
       "        text-align: right;\n",
       "    }\n",
       "</style>\n",
       "<table border=\"1\" class=\"dataframe\">\n",
       "  <thead>\n",
       "    <tr style=\"text-align: right;\">\n",
       "      <th></th>\n",
       "      <th>name</th>\n",
       "      <th>temperature</th>\n",
       "      <th>symbol</th>\n",
       "      <th>weatherDescription</th>\n",
       "      <th>text</th>\n",
       "      <th>windSpeed</th>\n",
       "      <th>windGust</th>\n",
       "      <th>cardinalWindDirection</th>\n",
       "      <th>windDirection</th>\n",
       "      <th>humidity</th>\n",
       "      <th>rainfall</th>\n",
       "      <th>pressure</th>\n",
       "      <th>dayName</th>\n",
       "      <th>date</th>\n",
       "      <th>reportTime</th>\n",
       "    </tr>\n",
       "  </thead>\n",
       "  <tbody>\n",
       "    <tr>\n",
       "      <th>0</th>\n",
       "      <td>Athenry</td>\n",
       "      <td>6.0</td>\n",
       "      <td>46n</td>\n",
       "      <td>Light rain</td>\n",
       "      <td>\"Light rain \"</td>\n",
       "      <td>4</td>\n",
       "      <td>-</td>\n",
       "      <td>E</td>\n",
       "      <td>90</td>\n",
       "      <td>99</td>\n",
       "      <td>0.01</td>\n",
       "      <td>1041.0</td>\n",
       "      <td>Wednesday</td>\n",
       "      <td>2024-11-13</td>\n",
       "      <td>00:00</td>\n",
       "    </tr>\n",
       "    <tr>\n",
       "      <th>1</th>\n",
       "      <td>Athenry</td>\n",
       "      <td>5.0</td>\n",
       "      <td>05n</td>\n",
       "      <td>Rain showers</td>\n",
       "      <td>\"Rain shower\"</td>\n",
       "      <td>4</td>\n",
       "      <td>-</td>\n",
       "      <td>NE</td>\n",
       "      <td>45</td>\n",
       "      <td>99</td>\n",
       "      <td>0.01</td>\n",
       "      <td>1040.0</td>\n",
       "      <td>Wednesday</td>\n",
       "      <td>2024-11-13</td>\n",
       "      <td>01:00</td>\n",
       "    </tr>\n",
       "    <tr>\n",
       "      <th>2</th>\n",
       "      <td>Athenry</td>\n",
       "      <td>5.0</td>\n",
       "      <td>05n</td>\n",
       "      <td>Rain showers</td>\n",
       "      <td>\"Rain shower\"</td>\n",
       "      <td>2</td>\n",
       "      <td>-</td>\n",
       "      <td>N</td>\n",
       "      <td>0</td>\n",
       "      <td>99</td>\n",
       "      <td>0.10</td>\n",
       "      <td>1040.0</td>\n",
       "      <td>Wednesday</td>\n",
       "      <td>2024-11-13</td>\n",
       "      <td>02:00</td>\n",
       "    </tr>\n",
       "  </tbody>\n",
       "</table>\n",
       "</div>"
      ],
      "text/plain": [
       "      name  temperature symbol weatherDescription           text windSpeed  \\\n",
       "0  Athenry          6.0    46n        Light rain   \"Light rain \"         4   \n",
       "1  Athenry          5.0    05n       Rain showers  \"Rain shower\"         4   \n",
       "2  Athenry          5.0    05n       Rain showers  \"Rain shower\"         2   \n",
       "\n",
       "  windGust cardinalWindDirection  windDirection  humidity  rainfall  pressure  \\\n",
       "0        -                     E             90        99      0.01    1041.0   \n",
       "1        -                    NE             45        99      0.01    1040.0   \n",
       "2        -                     N              0        99      0.10    1040.0   \n",
       "\n",
       "     dayName       date reportTime  \n",
       "0  Wednesday 2024-11-13      00:00  \n",
       "1  Wednesday 2024-11-13      01:00  \n",
       "2  Wednesday 2024-11-13      02:00  "
      ]
     },
     "execution_count": 123,
     "metadata": {},
     "output_type": "execute_result"
    }
   ],
   "source": [
    "# Load in data\n",
    "df = pd.read_json('data/weather/weather.json')\n",
    "\n",
    "# Display the first few rows\n",
    "df.head(3)"
   ]
  },
  {
   "cell_type": "markdown",
   "metadata": {},
   "source": [
    "#### Examine the Structure"
   ]
  },
  {
   "cell_type": "code",
   "execution_count": 124,
   "metadata": {},
   "outputs": [
    {
     "name": "stdout",
     "output_type": "stream",
     "text": [
      "<class 'pandas.core.frame.DataFrame'>\n",
      "RangeIndex: 19 entries, 0 to 18\n",
      "Data columns (total 15 columns):\n",
      " #   Column                 Non-Null Count  Dtype         \n",
      "---  ------                 --------------  -----         \n",
      " 0   name                   19 non-null     object        \n",
      " 1   temperature            13 non-null     float64       \n",
      " 2   symbol                 19 non-null     object        \n",
      " 3   weatherDescription     19 non-null     object        \n",
      " 4   text                   19 non-null     object        \n",
      " 5   windSpeed              19 non-null     object        \n",
      " 6   windGust               19 non-null     object        \n",
      " 7   cardinalWindDirection  19 non-null     object        \n",
      " 8   windDirection          19 non-null     int64         \n",
      " 9   humidity               19 non-null     int64         \n",
      " 10  rainfall               11 non-null     float64       \n",
      " 11  pressure               13 non-null     float64       \n",
      " 12  dayName                19 non-null     object        \n",
      " 13  date                   19 non-null     datetime64[ns]\n",
      " 14  reportTime             19 non-null     object        \n",
      "dtypes: datetime64[ns](1), float64(3), int64(2), object(9)\n",
      "memory usage: 2.4+ KB\n"
     ]
    }
   ],
   "source": [
    "# Check column names and data types.\n",
    "df.info()"
   ]
  },
  {
   "cell_type": "code",
   "execution_count": 125,
   "metadata": {},
   "outputs": [
    {
     "data": {
      "text/plain": [
       "(19, 15)"
      ]
     },
     "execution_count": 125,
     "metadata": {},
     "output_type": "execute_result"
    }
   ],
   "source": [
    "# Number or rows and number of columns\n",
    "df.shape"
   ]
  },
  {
   "cell_type": "markdown",
   "metadata": {},
   "source": [
    "### Statistical Analysis"
   ]
  },
  {
   "cell_type": "code",
   "execution_count": 126,
   "metadata": {},
   "outputs": [
    {
     "data": {
      "text/html": [
       "<div>\n",
       "<style scoped>\n",
       "    .dataframe tbody tr th:only-of-type {\n",
       "        vertical-align: middle;\n",
       "    }\n",
       "\n",
       "    .dataframe tbody tr th {\n",
       "        vertical-align: top;\n",
       "    }\n",
       "\n",
       "    .dataframe thead th {\n",
       "        text-align: right;\n",
       "    }\n",
       "</style>\n",
       "<table border=\"1\" class=\"dataframe\">\n",
       "  <thead>\n",
       "    <tr style=\"text-align: right;\">\n",
       "      <th></th>\n",
       "      <th>temperature</th>\n",
       "      <th>windDirection</th>\n",
       "      <th>humidity</th>\n",
       "      <th>rainfall</th>\n",
       "      <th>pressure</th>\n",
       "      <th>date</th>\n",
       "    </tr>\n",
       "  </thead>\n",
       "  <tbody>\n",
       "    <tr>\n",
       "      <th>count</th>\n",
       "      <td>13.000000</td>\n",
       "      <td>19.000000</td>\n",
       "      <td>19.000000</td>\n",
       "      <td>11.000000</td>\n",
       "      <td>13.000000</td>\n",
       "      <td>19</td>\n",
       "    </tr>\n",
       "    <tr>\n",
       "      <th>mean</th>\n",
       "      <td>5.846154</td>\n",
       "      <td>73.421053</td>\n",
       "      <td>26.052632</td>\n",
       "      <td>0.029091</td>\n",
       "      <td>1039.923077</td>\n",
       "      <td>2024-11-13 00:00:00</td>\n",
       "    </tr>\n",
       "    <tr>\n",
       "      <th>min</th>\n",
       "      <td>4.000000</td>\n",
       "      <td>0.000000</td>\n",
       "      <td>-99.000000</td>\n",
       "      <td>0.000000</td>\n",
       "      <td>1039.000000</td>\n",
       "      <td>2024-11-13 00:00:00</td>\n",
       "    </tr>\n",
       "    <tr>\n",
       "      <th>25%</th>\n",
       "      <td>5.000000</td>\n",
       "      <td>0.000000</td>\n",
       "      <td>-99.000000</td>\n",
       "      <td>0.000000</td>\n",
       "      <td>1040.000000</td>\n",
       "      <td>2024-11-13 00:00:00</td>\n",
       "    </tr>\n",
       "    <tr>\n",
       "      <th>50%</th>\n",
       "      <td>5.000000</td>\n",
       "      <td>45.000000</td>\n",
       "      <td>99.000000</td>\n",
       "      <td>0.000000</td>\n",
       "      <td>1040.000000</td>\n",
       "      <td>2024-11-13 00:00:00</td>\n",
       "    </tr>\n",
       "    <tr>\n",
       "      <th>75%</th>\n",
       "      <td>6.000000</td>\n",
       "      <td>135.000000</td>\n",
       "      <td>99.000000</td>\n",
       "      <td>0.055000</td>\n",
       "      <td>1040.000000</td>\n",
       "      <td>2024-11-13 00:00:00</td>\n",
       "    </tr>\n",
       "    <tr>\n",
       "      <th>max</th>\n",
       "      <td>9.000000</td>\n",
       "      <td>225.000000</td>\n",
       "      <td>99.000000</td>\n",
       "      <td>0.100000</td>\n",
       "      <td>1041.000000</td>\n",
       "      <td>2024-11-13 00:00:00</td>\n",
       "    </tr>\n",
       "    <tr>\n",
       "      <th>std</th>\n",
       "      <td>1.519109</td>\n",
       "      <td>82.446155</td>\n",
       "      <td>98.127736</td>\n",
       "      <td>0.045707</td>\n",
       "      <td>0.493548</td>\n",
       "      <td>NaN</td>\n",
       "    </tr>\n",
       "  </tbody>\n",
       "</table>\n",
       "</div>"
      ],
      "text/plain": [
       "       temperature  windDirection   humidity   rainfall     pressure  \\\n",
       "count    13.000000      19.000000  19.000000  11.000000    13.000000   \n",
       "mean      5.846154      73.421053  26.052632   0.029091  1039.923077   \n",
       "min       4.000000       0.000000 -99.000000   0.000000  1039.000000   \n",
       "25%       5.000000       0.000000 -99.000000   0.000000  1040.000000   \n",
       "50%       5.000000      45.000000  99.000000   0.000000  1040.000000   \n",
       "75%       6.000000     135.000000  99.000000   0.055000  1040.000000   \n",
       "max       9.000000     225.000000  99.000000   0.100000  1041.000000   \n",
       "std       1.519109      82.446155  98.127736   0.045707     0.493548   \n",
       "\n",
       "                      date  \n",
       "count                   19  \n",
       "mean   2024-11-13 00:00:00  \n",
       "min    2024-11-13 00:00:00  \n",
       "25%    2024-11-13 00:00:00  \n",
       "50%    2024-11-13 00:00:00  \n",
       "75%    2024-11-13 00:00:00  \n",
       "max    2024-11-13 00:00:00  \n",
       "std                    NaN  "
      ]
     },
     "execution_count": 126,
     "metadata": {},
     "output_type": "execute_result"
    }
   ],
   "source": [
    "df.describe()"
   ]
  },
  {
   "cell_type": "markdown",
   "metadata": {},
   "source": [
    "\n",
    "`pandas.unique`: Return unique values based on a hash table.\n",
    "\n",
    "https://pandas.pydata.org/pandas-docs/stable/reference/api/pandas.unique.html"
   ]
  },
  {
   "cell_type": "code",
   "execution_count": 127,
   "metadata": {},
   "outputs": [
    {
     "data": {
      "text/plain": [
       "name                      1\n",
       "temperature               4\n",
       "symbol                    7\n",
       "weatherDescription        6\n",
       "text                      8\n",
       "windSpeed                 5\n",
       "windGust                  1\n",
       "cardinalWindDirection     8\n",
       "windDirection             6\n",
       "humidity                  2\n",
       "rainfall                  3\n",
       "pressure                  3\n",
       "dayName                   1\n",
       "date                      1\n",
       "reportTime               19\n",
       "dtype: int64"
      ]
     },
     "execution_count": 127,
     "metadata": {},
     "output_type": "execute_result"
    }
   ],
   "source": [
    "# No of unique values in all columns\n",
    "df.nunique()"
   ]
  },
  {
   "cell_type": "markdown",
   "metadata": {},
   "source": [
    "Rename 'text'column to 'weather conditions' column."
   ]
  },
  {
   "cell_type": "code",
   "execution_count": 128,
   "metadata": {},
   "outputs": [],
   "source": [
    "# Rename text column\n",
    "df = df.rename(columns={'text': 'weather_condition'})"
   ]
  },
  {
   "cell_type": "code",
   "execution_count": 129,
   "metadata": {},
   "outputs": [
    {
     "data": {
      "text/plain": [
       "array(['\"Light rain \"', '\"Rain shower\"', '\"Fog thinning\"',\n",
       "       '\"Heavy rain \"', '\"Heavy rain shower\"', '\"Fog\"', '',\n",
       "       '\"Fog thickening\"'], dtype=object)"
      ]
     },
     "execution_count": 129,
     "metadata": {},
     "output_type": "execute_result"
    }
   ],
   "source": [
    "# List of weather conditions.\n",
    "df['weather_condition'].unique()"
   ]
  },
  {
   "cell_type": "markdown",
   "metadata": {},
   "source": [
    "Values of each weather condition "
   ]
  },
  {
   "cell_type": "code",
   "execution_count": 130,
   "metadata": {},
   "outputs": [
    {
     "data": {
      "text/plain": [
       "weather_condition\n",
       "                       7\n",
       "\"Fog thinning\"         3\n",
       "\"Rain shower\"          2\n",
       "\"Light rain \"          2\n",
       "\"Fog\"                  2\n",
       "\"Heavy rain \"          1\n",
       "\"Heavy rain shower\"    1\n",
       "\"Fog thickening\"       1\n",
       "Name: count, dtype: int64"
      ]
     },
     "execution_count": 130,
     "metadata": {},
     "output_type": "execute_result"
    }
   ],
   "source": [
    "# Values for weather conditions\n",
    "df['weather_condition'].value_counts()"
   ]
  },
  {
   "cell_type": "markdown",
   "metadata": {},
   "source": [
    "### Cleaning Data"
   ]
  },
  {
   "cell_type": "code",
   "execution_count": 131,
   "metadata": {},
   "outputs": [
    {
     "data": {
      "text/plain": [
       "name                     0\n",
       "temperature              6\n",
       "symbol                   0\n",
       "weatherDescription       0\n",
       "weather_condition        0\n",
       "windSpeed                0\n",
       "windGust                 0\n",
       "cardinalWindDirection    0\n",
       "windDirection            0\n",
       "humidity                 0\n",
       "rainfall                 8\n",
       "pressure                 6\n",
       "dayName                  0\n",
       "date                     0\n",
       "reportTime               0\n",
       "dtype: int64"
      ]
     },
     "execution_count": 131,
     "metadata": {},
     "output_type": "execute_result"
    }
   ],
   "source": [
    "# Check for missing values\n",
    "df.isnull().sum()"
   ]
  },
  {
   "cell_type": "code",
   "execution_count": 132,
   "metadata": {},
   "outputs": [],
   "source": [
    "# Drop NULL values\n",
    "df.dropna(inplace=True)"
   ]
  },
  {
   "cell_type": "code",
   "execution_count": 133,
   "metadata": {},
   "outputs": [
    {
     "data": {
      "text/plain": [
       "name                     0\n",
       "temperature              0\n",
       "symbol                   0\n",
       "weatherDescription       0\n",
       "weather_condition        0\n",
       "windSpeed                0\n",
       "windGust                 0\n",
       "cardinalWindDirection    0\n",
       "windDirection            0\n",
       "humidity                 0\n",
       "rainfall                 0\n",
       "pressure                 0\n",
       "dayName                  0\n",
       "date                     0\n",
       "reportTime               0\n",
       "dtype: int64"
      ]
     },
     "execution_count": 133,
     "metadata": {},
     "output_type": "execute_result"
    }
   ],
   "source": [
    "# Check if data is clean\n",
    "df.isnull().sum()"
   ]
  },
  {
   "cell_type": "markdown",
   "metadata": {},
   "source": [
    "Mean temperature value against weather condition.\n",
    "\n"
   ]
  },
  {
   "cell_type": "code",
   "execution_count": null,
   "metadata": {},
   "outputs": [
    {
     "data": {
      "text/html": [
       "<div>\n",
       "<style scoped>\n",
       "    .dataframe tbody tr th:only-of-type {\n",
       "        vertical-align: middle;\n",
       "    }\n",
       "\n",
       "    .dataframe tbody tr th {\n",
       "        vertical-align: top;\n",
       "    }\n",
       "\n",
       "    .dataframe thead th {\n",
       "        text-align: right;\n",
       "    }\n",
       "</style>\n",
       "<table border=\"1\" class=\"dataframe\">\n",
       "  <thead>\n",
       "    <tr style=\"text-align: right;\">\n",
       "      <th></th>\n",
       "      <th>temperature</th>\n",
       "      <th>windDirection</th>\n",
       "      <th>humidity</th>\n",
       "      <th>rainfall</th>\n",
       "      <th>pressure</th>\n",
       "    </tr>\n",
       "    <tr>\n",
       "      <th>weather_condition</th>\n",
       "      <th></th>\n",
       "      <th></th>\n",
       "      <th></th>\n",
       "      <th></th>\n",
       "      <th></th>\n",
       "    </tr>\n",
       "  </thead>\n",
       "  <tbody>\n",
       "    <tr>\n",
       "      <th>\"Fog thickening\"</th>\n",
       "      <td>9.000000</td>\n",
       "      <td>225.0</td>\n",
       "      <td>99.0</td>\n",
       "      <td>0.000</td>\n",
       "      <td>1039.0</td>\n",
       "    </tr>\n",
       "    <tr>\n",
       "      <th>\"Fog thinning\"</th>\n",
       "      <td>5.333333</td>\n",
       "      <td>135.0</td>\n",
       "      <td>99.0</td>\n",
       "      <td>0.000</td>\n",
       "      <td>1040.0</td>\n",
       "    </tr>\n",
       "    <tr>\n",
       "      <th>\"Fog\"</th>\n",
       "      <td>5.000000</td>\n",
       "      <td>67.5</td>\n",
       "      <td>99.0</td>\n",
       "      <td>0.000</td>\n",
       "      <td>1040.0</td>\n",
       "    </tr>\n",
       "    <tr>\n",
       "      <th>\"Heavy rain \"</th>\n",
       "      <td>6.000000</td>\n",
       "      <td>135.0</td>\n",
       "      <td>99.0</td>\n",
       "      <td>0.100</td>\n",
       "      <td>1040.0</td>\n",
       "    </tr>\n",
       "    <tr>\n",
       "      <th>\"Heavy rain shower\"</th>\n",
       "      <td>5.000000</td>\n",
       "      <td>135.0</td>\n",
       "      <td>99.0</td>\n",
       "      <td>0.100</td>\n",
       "      <td>1040.0</td>\n",
       "    </tr>\n",
       "    <tr>\n",
       "      <th>\"Light rain \"</th>\n",
       "      <td>6.000000</td>\n",
       "      <td>90.0</td>\n",
       "      <td>99.0</td>\n",
       "      <td>0.010</td>\n",
       "      <td>1041.0</td>\n",
       "    </tr>\n",
       "    <tr>\n",
       "      <th>\"Rain shower\"</th>\n",
       "      <td>5.000000</td>\n",
       "      <td>22.5</td>\n",
       "      <td>99.0</td>\n",
       "      <td>0.055</td>\n",
       "      <td>1040.0</td>\n",
       "    </tr>\n",
       "  </tbody>\n",
       "</table>\n",
       "</div>"
      ],
      "text/plain": [
       "                     temperature  windDirection  humidity  rainfall  pressure\n",
       "weather_condition                                                            \n",
       "\"Fog thickening\"        9.000000          225.0      99.0     0.000    1039.0\n",
       "\"Fog thinning\"          5.333333          135.0      99.0     0.000    1040.0\n",
       "\"Fog\"                   5.000000           67.5      99.0     0.000    1040.0\n",
       "\"Heavy rain \"           6.000000          135.0      99.0     0.100    1040.0\n",
       "\"Heavy rain shower\"     5.000000          135.0      99.0     0.100    1040.0\n",
       "\"Light rain \"           6.000000           90.0      99.0     0.010    1041.0\n",
       "\"Rain shower\"           5.000000           22.5      99.0     0.055    1040.0"
      ]
     },
     "execution_count": 134,
     "metadata": {},
     "output_type": "execute_result"
    }
   ],
   "source": [
    "# Calculate  mean for each weather condition.\n",
    "df.groupby('weather_condition').mean('temperature')"
   ]
  },
  {
   "cell_type": "markdown",
   "metadata": {},
   "source": [
    "### Data Visualisation"
   ]
  },
  {
   "cell_type": "markdown",
   "metadata": {},
   "source": [
    "### Set index to `datetime`.\n",
    "\n",
    "`DatetimeIndex` is a fundamental object in Pandas for handling time series data, allowing for precise date and time indexing.\n",
    "\n",
    "https://pandas.pydata.org/pandas-docs/stable/reference/api/pandas.DatetimeIndex.html#pandas-datetimeindex\n"
   ]
  },
  {
   "cell_type": "code",
   "execution_count": 135,
   "metadata": {},
   "outputs": [
    {
     "data": {
      "text/html": [
       "<div>\n",
       "<style scoped>\n",
       "    .dataframe tbody tr th:only-of-type {\n",
       "        vertical-align: middle;\n",
       "    }\n",
       "\n",
       "    .dataframe tbody tr th {\n",
       "        vertical-align: top;\n",
       "    }\n",
       "\n",
       "    .dataframe thead th {\n",
       "        text-align: right;\n",
       "    }\n",
       "</style>\n",
       "<table border=\"1\" class=\"dataframe\">\n",
       "  <thead>\n",
       "    <tr style=\"text-align: right;\">\n",
       "      <th></th>\n",
       "      <th>name</th>\n",
       "      <th>temperature</th>\n",
       "      <th>symbol</th>\n",
       "      <th>weatherDescription</th>\n",
       "      <th>weather_condition</th>\n",
       "      <th>windSpeed</th>\n",
       "      <th>windGust</th>\n",
       "      <th>cardinalWindDirection</th>\n",
       "      <th>windDirection</th>\n",
       "      <th>humidity</th>\n",
       "      <th>rainfall</th>\n",
       "      <th>pressure</th>\n",
       "      <th>dayName</th>\n",
       "      <th>reportTime</th>\n",
       "    </tr>\n",
       "    <tr>\n",
       "      <th>date</th>\n",
       "      <th></th>\n",
       "      <th></th>\n",
       "      <th></th>\n",
       "      <th></th>\n",
       "      <th></th>\n",
       "      <th></th>\n",
       "      <th></th>\n",
       "      <th></th>\n",
       "      <th></th>\n",
       "      <th></th>\n",
       "      <th></th>\n",
       "      <th></th>\n",
       "      <th></th>\n",
       "      <th></th>\n",
       "    </tr>\n",
       "  </thead>\n",
       "  <tbody>\n",
       "    <tr>\n",
       "      <th>2024-11-13</th>\n",
       "      <td>Athenry</td>\n",
       "      <td>6.0</td>\n",
       "      <td>46n</td>\n",
       "      <td>Light rain</td>\n",
       "      <td>\"Light rain \"</td>\n",
       "      <td>4</td>\n",
       "      <td>-</td>\n",
       "      <td>E</td>\n",
       "      <td>90</td>\n",
       "      <td>99</td>\n",
       "      <td>0.01</td>\n",
       "      <td>1041.0</td>\n",
       "      <td>Wednesday</td>\n",
       "      <td>00:00</td>\n",
       "    </tr>\n",
       "    <tr>\n",
       "      <th>2024-11-13</th>\n",
       "      <td>Athenry</td>\n",
       "      <td>5.0</td>\n",
       "      <td>05n</td>\n",
       "      <td>Rain showers</td>\n",
       "      <td>\"Rain shower\"</td>\n",
       "      <td>4</td>\n",
       "      <td>-</td>\n",
       "      <td>NE</td>\n",
       "      <td>45</td>\n",
       "      <td>99</td>\n",
       "      <td>0.01</td>\n",
       "      <td>1040.0</td>\n",
       "      <td>Wednesday</td>\n",
       "      <td>01:00</td>\n",
       "    </tr>\n",
       "    <tr>\n",
       "      <th>2024-11-13</th>\n",
       "      <td>Athenry</td>\n",
       "      <td>5.0</td>\n",
       "      <td>05n</td>\n",
       "      <td>Rain showers</td>\n",
       "      <td>\"Rain shower\"</td>\n",
       "      <td>2</td>\n",
       "      <td>-</td>\n",
       "      <td>N</td>\n",
       "      <td>0</td>\n",
       "      <td>99</td>\n",
       "      <td>0.10</td>\n",
       "      <td>1040.0</td>\n",
       "      <td>Wednesday</td>\n",
       "      <td>02:00</td>\n",
       "    </tr>\n",
       "  </tbody>\n",
       "</table>\n",
       "</div>"
      ],
      "text/plain": [
       "               name  temperature symbol weatherDescription weather_condition  \\\n",
       "date                                                                           \n",
       "2024-11-13  Athenry          6.0    46n        Light rain      \"Light rain \"   \n",
       "2024-11-13  Athenry          5.0    05n       Rain showers     \"Rain shower\"   \n",
       "2024-11-13  Athenry          5.0    05n       Rain showers     \"Rain shower\"   \n",
       "\n",
       "           windSpeed windGust cardinalWindDirection  windDirection  humidity  \\\n",
       "date                                                                           \n",
       "2024-11-13         4        -                     E             90        99   \n",
       "2024-11-13         4        -                    NE             45        99   \n",
       "2024-11-13         2        -                     N              0        99   \n",
       "\n",
       "            rainfall  pressure    dayName reportTime  \n",
       "date                                                  \n",
       "2024-11-13      0.01    1041.0  Wednesday      00:00  \n",
       "2024-11-13      0.01    1040.0  Wednesday      01:00  \n",
       "2024-11-13      0.10    1040.0  Wednesday      02:00  "
      ]
     },
     "execution_count": 135,
     "metadata": {},
     "output_type": "execute_result"
    }
   ],
   "source": [
    "df.set_index('date', inplace=True)\n",
    "df.head(3)"
   ]
  },
  {
   "cell_type": "markdown",
   "metadata": {},
   "source": [
    "#### Temperature throughout the day\n"
   ]
  },
  {
   "cell_type": "code",
   "execution_count": 136,
   "metadata": {},
   "outputs": [
    {
     "data": {
      "image/png": "[encoded data removed]",
      "text/plain": [
       "<Figure size 640x480 with 1 Axes>"
      ]
     },
     "metadata": {},
     "output_type": "display_data"
    }
   ],
   "source": [
    "# Plot temperature over time.\n",
    "\n",
    "# plt.figure(figsize=(12, 6))\n",
    "plt.plot(df['reportTime'], df['temperature'], label='Temperature', color='tab:red')\n",
    "plt.xlabel('Time of Day')\n",
    "plt.ylabel('Temperature (°C)')\n",
    "plt.title(\"Temperature throughout the Day\")\n",
    "plt.xticks(rotation=45)\n",
    "plt.legend()\n",
    "plt.savefig('img/daily_temp')\n"
   ]
  },
  {
   "cell_type": "markdown",
   "metadata": {},
   "source": [
    "#### Windspeed throughout the day"
   ]
  },
  {
   "cell_type": "code",
   "execution_count": 137,
   "metadata": {},
   "outputs": [
    {
     "data": {
      "image/png": "[encoded data removed]",
      "text/plain": [
       "<Figure size 640x480 with 1 Axes>"
      ]
     },
     "metadata": {},
     "output_type": "display_data"
    }
   ],
   "source": [
    "# Plot windspeed over time\n",
    "\n",
    "plt.plot(df['reportTime'], df['windSpeed'], label='Humidity', color='tab:blue')\n",
    "plt.xlabel('Time of Day')\n",
    "plt.ylabel('Windspeed (kt)')\n",
    "plt.title(\"Windspeed Throughout the Day\")\n",
    "plt.xticks(rotation=45)\n",
    "plt.legend()\n",
    "plt.savefig('img/daily_windspeed')\n"
   ]
  },
  {
   "cell_type": "markdown",
   "metadata": {},
   "source": [
    "### Temperature vs Windspeed\n",
    "Plot showing how temperature and windspeed are related throughout the day."
   ]
  },
  {
   "cell_type": "code",
   "execution_count": 138,
   "metadata": {},
   "outputs": [
    {
     "data": {
      "image/png": "[encoded data removed]",
      "text/plain": [
       "<Figure size 640x480 with 1 Axes>"
      ]
     },
     "metadata": {},
     "output_type": "display_data"
    }
   ],
   "source": [
    "# Scatter plot: Temperature vs. Humidity\n",
    "sns.scatterplot(x='temperature', y='windSpeed', data=df)\n",
    "plt.xlabel('Temperature (°C)')\n",
    "plt.ylabel('Windspeed (kt)')\n",
    "plt.title('Temperature vs Windspeed')\n",
    "plt.savefig('img/temp_vs_wind')\n"
   ]
  },
  {
   "cell_type": "markdown",
   "metadata": {},
   "source": [
    "## END"
   ]
  }
 ],
 "metadata": {
  "kernelspec": {
   "display_name": "Python 3",
   "language": "python",
   "name": "python3"
  },
  "language_info": {
   "codemirror_mode": {
    "name": "ipython",
    "version": 3
   },
   "file_extension": ".py",
   "mimetype": "text/x-python",
   "name": "python",
   "nbconvert_exporter": "python",
   "pygments_lexer": "ipython3",
   "version": "3.12.1"
  }
 },
 "nbformat": 4,
 "nbformat_minor": 2
}
