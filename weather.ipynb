{
 "cells": [
  {
   "cell_type": "markdown",
   "metadata": {},
   "source": [
    "# Weather Notebook\n",
    "\n",
    "The notebook will provide code snippets and explanations for each task, starting from creating directory structures to downloading weather data and processing it."
   ]
  },
  {
   "cell_type": "code",
   "execution_count": 3,
   "metadata": {},
   "outputs": [],
   "source": [
    "# Libraries\n",
    "import pandas as pd # for data manipulation and analysis\n",
    "import os\n",
    "import matplotlib.pyplot as plt  # for data visualisation and graphical plotting\n",
    "import seaborn as sns  # built on top of matplotlib with similar functionalities\n",
    "import numpy as np # for mathematical operations on arrays.\n",
    "import datetime"
   ]
  },
  {
   "cell_type": "markdown",
   "metadata": {},
   "source": [
    "### Collecting the Data"
   ]
  },
  {
   "cell_type": "markdown",
   "metadata": {},
   "source": [
    "`mkdir`......"
   ]
  },
  {
   "cell_type": "markdown",
   "metadata": {},
   "source": [
    "1.Create Directory Structure\n",
    "\n",
    "The following command created the data folder and timestamps and weather subdirectories.\n",
    "\n",
    "```bash\n",
    "mkdir -p computer_infrastructure/data/timestamps/weather\n",
    "```\n"
   ]
  },
  {
   "cell_type": "markdown",
   "metadata": {},
   "source": [
    "`date`....."
   ]
  },
  {
   "cell_type": "markdown",
   "metadata": {},
   "source": [
    "2.Timestamps\n",
    "\n",
    "The `date` command generated timestamped files and appended them to now.txt file.\n",
    "\n",
    "```bash\n",
    "date + \"%Y/%m/%d_%H:%M:%S>>now.txt\n",
    "```\n",
    "The output format is:\n",
    "2024/12/07 14:30:00"
   ]
  },
  {
   "cell_type": "markdown",
   "metadata": {},
   "source": [
    "3.Formatting Timestamps\n",
    "\n",
    "This command generated timestamps and appended them onto formatted.txt file\n",
    "\n",
    "```bash\n",
    "date + \"%Y%m%d_%H%M%S>>formatted.txt\n",
    "```\n",
    "Output format: 20241209_130003 (File created at 1:00:03 PM on December 09, 2024).\n"
   ]
  },
  {
   "cell_type": "markdown",
   "metadata": {},
   "source": [
    "`touch`...."
   ]
  },
  {
   "cell_type": "markdown",
   "metadata": {},
   "source": [
    "4.Creating Timestamped Files\n",
    "\n",
    "This command created an empty file with a timestamped name using the `touch` command.\n",
    "\n",
    "```bash\n",
    "touch `date +\"%Y%m%d_%H%M%S.txt\"`\n",
    "```\n",
    "Output format: 20241025_222322.txt (File created at 10:23:22 PM on October 25, 2024.)"
   ]
  },
  {
   "cell_type": "markdown",
   "metadata": {},
   "source": [
    "`wget`......"
   ]
  },
  {
   "cell_type": "markdown",
   "metadata": {},
   "source": [
    "5.Dowloading Today's weather\n",
    "\n",
    "This command downloads current weather using `wget`, and save it as **weather.json** in the data/weather directory .\n",
    "\n",
    "```bash\n",
    "wget -O weather.json\" https://prodapi.metweb.ie/observations/athenry/today\n",
    "```"
   ]
  },
  {
   "cell_type": "markdown",
   "metadata": {},
   "source": [
    "6.Timestamp the Data in YYYYmmdd_HHMMSS.json Format\n",
    "\n",
    "Modifying the downloaded weather file with a timestamped name.\n",
    "\n",
    "```bash\n",
    "wget -O data/weather/`date +\"%Y%m%d_%H%M%S.json\"` https://prodapi.metweb.ie/observations/athenry/today\n",
    "\n",
    "```\n",
    "Output format:20241201_221719.json (File created at 10:17:19 PM on December 01, 2024)"
   ]
  },
  {
   "cell_type": "markdown",
   "metadata": {},
   "source": [
    "7. Write a Script\n",
    "\n",
    "Bash scprits automate tasks\n",
    "\n",
    "```bash\n",
    "\n",
    "#!/bin/bash\n",
    "date\n",
    "echo \"Downloading weather data\"\n",
    "wget -O data/weather/`date +\"%Y%m%d_%H%M%S.json\"` https://prodapi.metweb.ie/observations/athenry/today\n",
    "echo \"Weather data downloaded\"\n",
    "\n",
    "```"
   ]
  },
  {
   "cell_type": "markdown",
   "metadata": {},
   "source": [
    "## Athenry Weather"
   ]
  },
  {
   "cell_type": "markdown",
   "metadata": {},
   "source": [
    "### About the Dataset.\n",
    "\n",
    "This weather dataset contains a list of observations for every hour of the current day for a synoptic station in Athenry, Co Galway.\n",
    "Time values are Local times and the file is updated hourly. \n",
    "\n",
    "Values for each hour include: \n",
    "\n",
    "- Name\n",
    "- Dry bulb temperature in whole degrees\n",
    "- Weather description, Windspeed (kt)\n",
    "- Cardinal Wind Direction\n",
    "- Relative Humidity (%)\n",
    "- Rainfall (mm)\n",
    "- msl Pressure (mbar) \n",
    "- Day of the week\n",
    "- Date\n",
    "- Time of observation."
   ]
  },
  {
   "cell_type": "markdown",
   "metadata": {},
   "source": [
    "### Load data."
   ]
  },
  {
   "cell_type": "code",
   "execution_count": 4,
   "metadata": {},
   "outputs": [
    {
     "data": {
      "text/html": [
       "<div>\n",
       "<style scoped>\n",
       "    .dataframe tbody tr th:only-of-type {\n",
       "        vertical-align: middle;\n",
       "    }\n",
       "\n",
       "    .dataframe tbody tr th {\n",
       "        vertical-align: top;\n",
       "    }\n",
       "\n",
       "    .dataframe thead th {\n",
       "        text-align: right;\n",
       "    }\n",
       "</style>\n",
       "<table border=\"1\" class=\"dataframe\">\n",
       "  <thead>\n",
       "    <tr style=\"text-align: right;\">\n",
       "      <th></th>\n",
       "      <th>name</th>\n",
       "      <th>temperature</th>\n",
       "      <th>symbol</th>\n",
       "      <th>weatherDescription</th>\n",
       "      <th>text</th>\n",
       "      <th>windSpeed</th>\n",
       "      <th>windGust</th>\n",
       "      <th>cardinalWindDirection</th>\n",
       "      <th>windDirection</th>\n",
       "      <th>humidity</th>\n",
       "      <th>rainfall</th>\n",
       "      <th>pressure</th>\n",
       "      <th>dayName</th>\n",
       "      <th>date</th>\n",
       "      <th>reportTime</th>\n",
       "    </tr>\n",
       "  </thead>\n",
       "  <tbody>\n",
       "    <tr>\n",
       "      <th>0</th>\n",
       "      <td>Athenry</td>\n",
       "      <td>6.0</td>\n",
       "      <td>46n</td>\n",
       "      <td>Light rain</td>\n",
       "      <td>\"Light rain \"</td>\n",
       "      <td>4</td>\n",
       "      <td>-</td>\n",
       "      <td>E</td>\n",
       "      <td>90</td>\n",
       "      <td>99</td>\n",
       "      <td>0.01</td>\n",
       "      <td>1041.0</td>\n",
       "      <td>Wednesday</td>\n",
       "      <td>2024-11-13</td>\n",
       "      <td>00:00</td>\n",
       "    </tr>\n",
       "    <tr>\n",
       "      <th>1</th>\n",
       "      <td>Athenry</td>\n",
       "      <td>5.0</td>\n",
       "      <td>05n</td>\n",
       "      <td>Rain showers</td>\n",
       "      <td>\"Rain shower\"</td>\n",
       "      <td>4</td>\n",
       "      <td>-</td>\n",
       "      <td>NE</td>\n",
       "      <td>45</td>\n",
       "      <td>99</td>\n",
       "      <td>0.01</td>\n",
       "      <td>1040.0</td>\n",
       "      <td>Wednesday</td>\n",
       "      <td>2024-11-13</td>\n",
       "      <td>01:00</td>\n",
       "    </tr>\n",
       "    <tr>\n",
       "      <th>2</th>\n",
       "      <td>Athenry</td>\n",
       "      <td>5.0</td>\n",
       "      <td>05n</td>\n",
       "      <td>Rain showers</td>\n",
       "      <td>\"Rain shower\"</td>\n",
       "      <td>2</td>\n",
       "      <td>-</td>\n",
       "      <td>N</td>\n",
       "      <td>0</td>\n",
       "      <td>99</td>\n",
       "      <td>0.10</td>\n",
       "      <td>1040.0</td>\n",
       "      <td>Wednesday</td>\n",
       "      <td>2024-11-13</td>\n",
       "      <td>02:00</td>\n",
       "    </tr>\n",
       "  </tbody>\n",
       "</table>\n",
       "</div>"
      ],
      "text/plain": [
       "      name  temperature symbol weatherDescription           text windSpeed  \\\n",
       "0  Athenry          6.0    46n        Light rain   \"Light rain \"         4   \n",
       "1  Athenry          5.0    05n       Rain showers  \"Rain shower\"         4   \n",
       "2  Athenry          5.0    05n       Rain showers  \"Rain shower\"         2   \n",
       "\n",
       "  windGust cardinalWindDirection  windDirection  humidity  rainfall  pressure  \\\n",
       "0        -                     E             90        99      0.01    1041.0   \n",
       "1        -                    NE             45        99      0.01    1040.0   \n",
       "2        -                     N              0        99      0.10    1040.0   \n",
       "\n",
       "     dayName       date reportTime  \n",
       "0  Wednesday 2024-11-13      00:00  \n",
       "1  Wednesday 2024-11-13      01:00  \n",
       "2  Wednesday 2024-11-13      02:00  "
      ]
     },
     "execution_count": 4,
     "metadata": {},
     "output_type": "execute_result"
    }
   ],
   "source": [
    "# Read in data\n",
    "df = pd.read_json('data/weather/weather.json')\n",
    "df.head(3)"
   ]
  },
  {
   "cell_type": "markdown",
   "metadata": {},
   "source": [
    "### Analysis"
   ]
  },
  {
   "cell_type": "code",
   "execution_count": 5,
   "metadata": {},
   "outputs": [
    {
     "name": "stdout",
     "output_type": "stream",
     "text": [
      "<class 'pandas.core.frame.DataFrame'>\n",
      "RangeIndex: 19 entries, 0 to 18\n",
      "Data columns (total 15 columns):\n",
      " #   Column                 Non-Null Count  Dtype         \n",
      "---  ------                 --------------  -----         \n",
      " 0   name                   19 non-null     object        \n",
      " 1   temperature            13 non-null     float64       \n",
      " 2   symbol                 19 non-null     object        \n",
      " 3   weatherDescription     19 non-null     object        \n",
      " 4   text                   19 non-null     object        \n",
      " 5   windSpeed              19 non-null     object        \n",
      " 6   windGust               19 non-null     object        \n",
      " 7   cardinalWindDirection  19 non-null     object        \n",
      " 8   windDirection          19 non-null     int64         \n",
      " 9   humidity               19 non-null     int64         \n",
      " 10  rainfall               11 non-null     float64       \n",
      " 11  pressure               13 non-null     float64       \n",
      " 12  dayName                19 non-null     object        \n",
      " 13  date                   19 non-null     datetime64[ns]\n",
      " 14  reportTime             19 non-null     object        \n",
      "dtypes: datetime64[ns](1), float64(3), int64(2), object(9)\n",
      "memory usage: 2.4+ KB\n"
     ]
    }
   ],
   "source": [
    "# Information about \n",
    "# the data\n",
    "df.info()"
   ]
  },
  {
   "cell_type": "code",
   "execution_count": null,
   "metadata": {},
   "outputs": [
    {
     "data": {
      "text/html": [
       "<div>\n",
       "<style scoped>\n",
       "    .dataframe tbody tr th:only-of-type {\n",
       "        vertical-align: middle;\n",
       "    }\n",
       "\n",
       "    .dataframe tbody tr th {\n",
       "        vertical-align: top;\n",
       "    }\n",
       "\n",
       "    .dataframe thead th {\n",
       "        text-align: right;\n",
       "    }\n",
       "</style>\n",
       "<table border=\"1\" class=\"dataframe\">\n",
       "  <thead>\n",
       "    <tr style=\"text-align: right;\">\n",
       "      <th></th>\n",
       "      <th>temperature</th>\n",
       "      <th>windDirection</th>\n",
       "      <th>humidity</th>\n",
       "      <th>rainfall</th>\n",
       "      <th>pressure</th>\n",
       "      <th>date</th>\n",
       "    </tr>\n",
       "  </thead>\n",
       "  <tbody>\n",
       "    <tr>\n",
       "      <th>count</th>\n",
       "      <td>13.000000</td>\n",
       "      <td>19.000000</td>\n",
       "      <td>19.000000</td>\n",
       "      <td>11.000000</td>\n",
       "      <td>13.000000</td>\n",
       "      <td>19</td>\n",
       "    </tr>\n",
       "    <tr>\n",
       "      <th>mean</th>\n",
       "      <td>5.846154</td>\n",
       "      <td>73.421053</td>\n",
       "      <td>26.052632</td>\n",
       "      <td>0.029091</td>\n",
       "      <td>1039.923077</td>\n",
       "      <td>2024-11-13 00:00:00</td>\n",
       "    </tr>\n",
       "    <tr>\n",
       "      <th>min</th>\n",
       "      <td>4.000000</td>\n",
       "      <td>0.000000</td>\n",
       "      <td>-99.000000</td>\n",
       "      <td>0.000000</td>\n",
       "      <td>1039.000000</td>\n",
       "      <td>2024-11-13 00:00:00</td>\n",
       "    </tr>\n",
       "    <tr>\n",
       "      <th>25%</th>\n",
       "      <td>5.000000</td>\n",
       "      <td>0.000000</td>\n",
       "      <td>-99.000000</td>\n",
       "      <td>0.000000</td>\n",
       "      <td>1040.000000</td>\n",
       "      <td>2024-11-13 00:00:00</td>\n",
       "    </tr>\n",
       "    <tr>\n",
       "      <th>50%</th>\n",
       "      <td>5.000000</td>\n",
       "      <td>45.000000</td>\n",
       "      <td>99.000000</td>\n",
       "      <td>0.000000</td>\n",
       "      <td>1040.000000</td>\n",
       "      <td>2024-11-13 00:00:00</td>\n",
       "    </tr>\n",
       "    <tr>\n",
       "      <th>75%</th>\n",
       "      <td>6.000000</td>\n",
       "      <td>135.000000</td>\n",
       "      <td>99.000000</td>\n",
       "      <td>0.055000</td>\n",
       "      <td>1040.000000</td>\n",
       "      <td>2024-11-13 00:00:00</td>\n",
       "    </tr>\n",
       "    <tr>\n",
       "      <th>max</th>\n",
       "      <td>9.000000</td>\n",
       "      <td>225.000000</td>\n",
       "      <td>99.000000</td>\n",
       "      <td>0.100000</td>\n",
       "      <td>1041.000000</td>\n",
       "      <td>2024-11-13 00:00:00</td>\n",
       "    </tr>\n",
       "    <tr>\n",
       "      <th>std</th>\n",
       "      <td>1.519109</td>\n",
       "      <td>82.446155</td>\n",
       "      <td>98.127736</td>\n",
       "      <td>0.045707</td>\n",
       "      <td>0.493548</td>\n",
       "      <td>NaN</td>\n",
       "    </tr>\n",
       "  </tbody>\n",
       "</table>\n",
       "</div>"
      ],
      "text/plain": [
       "       temperature  windDirection   humidity   rainfall     pressure  \\\n",
       "count    13.000000      19.000000  19.000000  11.000000    13.000000   \n",
       "mean      5.846154      73.421053  26.052632   0.029091  1039.923077   \n",
       "min       4.000000       0.000000 -99.000000   0.000000  1039.000000   \n",
       "25%       5.000000       0.000000 -99.000000   0.000000  1040.000000   \n",
       "50%       5.000000      45.000000  99.000000   0.000000  1040.000000   \n",
       "75%       6.000000     135.000000  99.000000   0.055000  1040.000000   \n",
       "max       9.000000     225.000000  99.000000   0.100000  1041.000000   \n",
       "std       1.519109      82.446155  98.127736   0.045707     0.493548   \n",
       "\n",
       "                      date  \n",
       "count                   19  \n",
       "mean   2024-11-13 00:00:00  \n",
       "min    2024-11-13 00:00:00  \n",
       "25%    2024-11-13 00:00:00  \n",
       "50%    2024-11-13 00:00:00  \n",
       "75%    2024-11-13 00:00:00  \n",
       "max    2024-11-13 00:00:00  \n",
       "std                    NaN  "
      ]
     },
     "execution_count": 6,
     "metadata": {},
     "output_type": "execute_result"
    }
   ],
   "source": [
    "df.describe()"
   ]
  },
  {
   "cell_type": "markdown",
   "metadata": {},
   "source": [
    "Set 'date' column as index."
   ]
  },
  {
   "cell_type": "code",
   "execution_count": 15,
   "metadata": {},
   "outputs": [
    {
     "data": {
      "text/html": [
       "<div>\n",
       "<style scoped>\n",
       "    .dataframe tbody tr th:only-of-type {\n",
       "        vertical-align: middle;\n",
       "    }\n",
       "\n",
       "    .dataframe tbody tr th {\n",
       "        vertical-align: top;\n",
       "    }\n",
       "\n",
       "    .dataframe thead th {\n",
       "        text-align: right;\n",
       "    }\n",
       "</style>\n",
       "<table border=\"1\" class=\"dataframe\">\n",
       "  <thead>\n",
       "    <tr style=\"text-align: right;\">\n",
       "      <th></th>\n",
       "      <th>name</th>\n",
       "      <th>temperature</th>\n",
       "      <th>symbol</th>\n",
       "      <th>weatherDescription</th>\n",
       "      <th>text</th>\n",
       "      <th>windSpeed</th>\n",
       "      <th>windGust</th>\n",
       "      <th>cardinalWindDirection</th>\n",
       "      <th>windDirection</th>\n",
       "      <th>humidity</th>\n",
       "      <th>rainfall</th>\n",
       "      <th>pressure</th>\n",
       "      <th>dayName</th>\n",
       "      <th>reportTime</th>\n",
       "    </tr>\n",
       "    <tr>\n",
       "      <th>date</th>\n",
       "      <th></th>\n",
       "      <th></th>\n",
       "      <th></th>\n",
       "      <th></th>\n",
       "      <th></th>\n",
       "      <th></th>\n",
       "      <th></th>\n",
       "      <th></th>\n",
       "      <th></th>\n",
       "      <th></th>\n",
       "      <th></th>\n",
       "      <th></th>\n",
       "      <th></th>\n",
       "      <th></th>\n",
       "    </tr>\n",
       "  </thead>\n",
       "  <tbody>\n",
       "    <tr>\n",
       "      <th>2024-11-13</th>\n",
       "      <td>Athenry</td>\n",
       "      <td>6.0</td>\n",
       "      <td>46n</td>\n",
       "      <td>Light rain</td>\n",
       "      <td>\"Light rain \"</td>\n",
       "      <td>4</td>\n",
       "      <td>-</td>\n",
       "      <td>E</td>\n",
       "      <td>90</td>\n",
       "      <td>99</td>\n",
       "      <td>0.01</td>\n",
       "      <td>1041.0</td>\n",
       "      <td>Wednesday</td>\n",
       "      <td>00:00</td>\n",
       "    </tr>\n",
       "    <tr>\n",
       "      <th>2024-11-13</th>\n",
       "      <td>Athenry</td>\n",
       "      <td>5.0</td>\n",
       "      <td>05n</td>\n",
       "      <td>Rain showers</td>\n",
       "      <td>\"Rain shower\"</td>\n",
       "      <td>4</td>\n",
       "      <td>-</td>\n",
       "      <td>NE</td>\n",
       "      <td>45</td>\n",
       "      <td>99</td>\n",
       "      <td>0.01</td>\n",
       "      <td>1040.0</td>\n",
       "      <td>Wednesday</td>\n",
       "      <td>01:00</td>\n",
       "    </tr>\n",
       "    <tr>\n",
       "      <th>2024-11-13</th>\n",
       "      <td>Athenry</td>\n",
       "      <td>5.0</td>\n",
       "      <td>05n</td>\n",
       "      <td>Rain showers</td>\n",
       "      <td>\"Rain shower\"</td>\n",
       "      <td>2</td>\n",
       "      <td>-</td>\n",
       "      <td>N</td>\n",
       "      <td>0</td>\n",
       "      <td>99</td>\n",
       "      <td>0.10</td>\n",
       "      <td>1040.0</td>\n",
       "      <td>Wednesday</td>\n",
       "      <td>02:00</td>\n",
       "    </tr>\n",
       "  </tbody>\n",
       "</table>\n",
       "</div>"
      ],
      "text/plain": [
       "               name  temperature symbol weatherDescription           text  \\\n",
       "date                                                                        \n",
       "2024-11-13  Athenry          6.0    46n        Light rain   \"Light rain \"   \n",
       "2024-11-13  Athenry          5.0    05n       Rain showers  \"Rain shower\"   \n",
       "2024-11-13  Athenry          5.0    05n       Rain showers  \"Rain shower\"   \n",
       "\n",
       "           windSpeed windGust cardinalWindDirection  windDirection  humidity  \\\n",
       "date                                                                           \n",
       "2024-11-13         4        -                     E             90        99   \n",
       "2024-11-13         4        -                    NE             45        99   \n",
       "2024-11-13         2        -                     N              0        99   \n",
       "\n",
       "            rainfall  pressure    dayName reportTime  \n",
       "date                                                  \n",
       "2024-11-13      0.01    1041.0  Wednesday      00:00  \n",
       "2024-11-13      0.01    1040.0  Wednesday      01:00  \n",
       "2024-11-13      0.10    1040.0  Wednesday      02:00  "
      ]
     },
     "execution_count": 15,
     "metadata": {},
     "output_type": "execute_result"
    }
   ],
   "source": [
    "df.set_index('date', inplace=True)\n",
    "df.head(3)"
   ]
  },
  {
   "cell_type": "markdown",
   "metadata": {},
   "source": [
    "### Data Cleaning"
   ]
  },
  {
   "cell_type": "code",
   "execution_count": null,
   "metadata": {},
   "outputs": [
    {
     "name": "stdout",
     "output_type": "stream",
     "text": [
      "name                     0\n",
      "temperature              6\n",
      "symbol                   0\n",
      "weatherDescription       0\n",
      "text                     0\n",
      "windSpeed                0\n",
      "windGust                 0\n",
      "cardinalWindDirection    0\n",
      "windDirection            0\n",
      "humidity                 0\n",
      "rainfall                 8\n",
      "pressure                 6\n",
      "dayName                  0\n",
      "date                     0\n",
      "reportTime               0\n",
      "dtype: int64\n"
     ]
    }
   ],
   "source": [
    "# Check for missing values\n",
    "print(df.isna().sum())"
   ]
  },
  {
   "cell_type": "markdown",
   "metadata": {},
   "source": [
    "### Drop Null values"
   ]
  },
  {
   "cell_type": "code",
   "execution_count": null,
   "metadata": {},
   "outputs": [
    {
     "name": "stdout",
     "output_type": "stream",
     "text": [
      "name                     0\n",
      "temperature              0\n",
      "symbol                   0\n",
      "weatherDescription       0\n",
      "text                     0\n",
      "windSpeed                0\n",
      "windGust                 0\n",
      "cardinalWindDirection    0\n",
      "windDirection            0\n",
      "humidity                 0\n",
      "rainfall                 0\n",
      "pressure                 0\n",
      "dayName                  0\n",
      "date                     0\n",
      "reportTime               0\n",
      "dtype: int64\n"
     ]
    }
   ],
   "source": [
    "\n",
    "# Dropping null values.\n",
    "df.dropna(inplace = True)\n",
    "\n",
    "# Check for Null values again\n",
    "print(df.isnull().sum())\n"
   ]
  },
  {
   "cell_type": "markdown",
   "metadata": {},
   "source": [
    "### Plotting\n",
    "\n",
    "Temperature"
   ]
  },
  {
   "cell_type": "code",
   "execution_count": 27,
   "metadata": {},
   "outputs": [
    {
     "data": {
      "text/plain": [
       "<Axes: xlabel='reportTime', ylabel='temperature'>"
      ]
     },
     "execution_count": 27,
     "metadata": {},
     "output_type": "execute_result"
    },
    {
     "data": {
      "image/png": "[encoded data removed]",
      "text/plain": [
       "<Figure size 640x480 with 1 Axes>"
      ]
     },
     "metadata": {},
     "output_type": "display_data"
    }
   ],
   "source": [
    "# Temperature for Wednesday\n",
    "sns.lineplot(data=df, x='reportTime', y='temperature')"
   ]
  },
  {
   "cell_type": "markdown",
   "metadata": {},
   "source": [
    "Windspeed"
   ]
  },
  {
   "cell_type": "markdown",
   "metadata": {},
   "source": []
  },
  {
   "cell_type": "code",
   "execution_count": 29,
   "metadata": {},
   "outputs": [
    {
     "data": {
      "text/plain": [
       "<Axes: xlabel='reportTime', ylabel='windSpeed'>"
      ]
     },
     "execution_count": 29,
     "metadata": {},
     "output_type": "execute_result"
    },
    {
     "data": {
      "image/png": "[encoded data removed]",
      "text/plain": [
       "<Figure size 640x480 with 1 Axes>"
      ]
     },
     "metadata": {},
     "output_type": "display_data"
    }
   ],
   "source": [
    "# Windspeed for Wednesday\n",
    "sns.lineplot(data=df, x='reportTime', y='windSpeed')"
   ]
  },
  {
   "cell_type": "markdown",
   "metadata": {},
   "source": [
    "## END"
   ]
  }
 ],
 "metadata": {
  "kernelspec": {
   "display_name": "Python 3",
   "language": "python",
   "name": "python3"
  },
  "language_info": {
   "codemirror_mode": {
    "name": "ipython",
    "version": 3
   },
   "file_extension": ".py",
   "mimetype": "text/x-python",
   "name": "python",
   "nbconvert_exporter": "python",
   "pygments_lexer": "ipython3",
   "version": "3.12.1"
  }
 },
 "nbformat": 4,
 "nbformat_minor": 2
}
